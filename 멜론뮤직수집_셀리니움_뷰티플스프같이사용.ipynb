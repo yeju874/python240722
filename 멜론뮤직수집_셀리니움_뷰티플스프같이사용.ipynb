{
 "cells": [
  {
   "cell_type": "code",
   "execution_count": 21,
   "metadata": {},
   "outputs": [],
   "source": [
    "from selenium import webdriver\n",
    "from selenium.webdriver.chrome.service import Service\n",
    "from webdriver_manager.chrome import ChromeDriverManager\n",
    "from selenium.webdriver.common.by import By\n",
    "\n",
    "def set_chrome_driver():\n",
    "    chrome_options = webdriver.ChromeOptions()\n",
    "    driver = webdriver.Chrome(service=Service(ChromeDriverManager().install()), options=chrome_options)\n",
    "    return driver\n",
    "\n",
    "#이 부분을 수정한다. \n",
    "driver = set_chrome_driver()"
   ]
  },
  {
   "cell_type": "code",
   "execution_count": 22,
   "metadata": {},
   "outputs": [],
   "source": [
    "url = 'https://www.naver.com'\n",
    "driver.get(url)"
   ]
  },
  {
   "cell_type": "code",
   "execution_count": 23,
   "metadata": {},
   "outputs": [],
   "source": [
    "html = driver.page_source "
   ]
  },
  {
   "cell_type": "code",
   "execution_count": 24,
   "metadata": {},
   "outputs": [],
   "source": [
    "html = '''\n",
    "<html>\n",
    "    <head>\n",
    "    </head>\n",
    "    <body>\n",
    "        <h1> 우리동네시장</h1>\n",
    "            <div class = 'sale'>\n",
    "                <p id='fruits1' class='fruits'>\n",
    "                    <span class = 'name'> 바나나 </span>\n",
    "                    <span class = 'price'> 3000원 </span>\n",
    "                    <span class = 'inventory'> 500개 </span>\n",
    "                    <span class = 'store'> 가나다상회 </span>\n",
    "                    <a href = 'http://bit.ly/forPlaywithData' > 홈페이지 </a>\n",
    "                </p>\n",
    "            </div>\n",
    "            <div class = 'prepare'>\n",
    "                <p id='fruits2' class='fruits'>\n",
    "                    <span class ='name'> 파인애플 </span>\n",
    "                </p>\n",
    "            </div>\n",
    "    </body>\n",
    "</html>\n",
    "'''\n",
    "\n",
    "from bs4 import BeautifulSoup \n",
    "\n",
    "soup = BeautifulSoup(html, 'html.parser') "
   ]
  },
  {
   "cell_type": "code",
   "execution_count": 25,
   "metadata": {},
   "outputs": [],
   "source": [
    "#태그명으로 찾기\n",
    "tags_span = soup.select('span')\n",
    "tags_p = soup.select('p')\n"
   ]
  },
  {
   "cell_type": "code",
   "execution_count": 26,
   "metadata": {},
   "outputs": [
    {
     "data": {
      "text/plain": [
       "[<span class=\"price\"> 3000원 </span>]"
      ]
     },
     "execution_count": 26,
     "metadata": {},
     "output_type": "execute_result"
    }
   ],
   "source": [
    "#id와 class로 찾기\n",
    "# #뒤에 id를 입력해서 찾거나 .뒤에 class를 넣는 방법이 있다. \n",
    "ids_fruits1 = soup.select('#fruits1')\n",
    "class_price = soup.select('.price')\n",
    "#태그가 span이면서 class명이 price인 것을 모두 찾는다. \n",
    "tags_span_class_price = soup.select('span.price')\n",
    "tags_span_class_price"
   ]
  },
  {
   "cell_type": "code",
   "execution_count": 27,
   "metadata": {},
   "outputs": [
    {
     "data": {
      "text/plain": [
       "[<span class=\"name\"> 바나나 </span>, <span class=\"name\"> 파인애플 </span>]"
      ]
     },
     "execution_count": 27,
     "metadata": {},
     "output_type": "execute_result"
    }
   ],
   "source": [
    "#상위 구조 활용\n",
    "#정보가 담긴 태그의 속성만으로는 찾기가 어려울 경우 부모 태그 아래에 있는지 등의 정보를 추가해서 찾을 수 있다.\n",
    "#한단계 아래를 의미할 때는 '>'기호를 사용한다. \n",
    "#상위 태그는 부모태그, 하위 태그는 자식 태그라고 부른다. \n",
    "tags_name = soup.select('span.name')\n",
    "tags_name "
   ]
  },
  {
   "cell_type": "code",
   "execution_count": 28,
   "metadata": {},
   "outputs": [
    {
     "data": {
      "text/plain": [
       "[<span class=\"name\"> 바나나 </span>]"
      ]
     },
     "execution_count": 28,
     "metadata": {},
     "output_type": "execute_result"
    }
   ],
   "source": [
    "#이때 파인애플은 제외하고 바나나만 찾기 위해 바나나가 속한 부모 태그 정보를 추가한다. \n",
    "#부모 태그를 추가하면 바나나만 출력된다.\n",
    "tags_banana1 = soup.select('#fruits1 > span.name')\n",
    "tags_banana1"
   ]
  },
  {
   "cell_type": "code",
   "execution_count": 29,
   "metadata": {},
   "outputs": [
    {
     "name": "stdout",
     "output_type": "stream",
     "text": [
      "[<span class=\"name\"> 바나나 </span>]\n",
      "[<span class=\"name\"> 바나나 </span>]\n"
     ]
    }
   ],
   "source": [
    "#태그 위치로 위치 찾기2 \n",
    "#결과는 동일하지만 첫번째 코드는 상위태그1(div.sale)바로 아래에 있는 상위 태그2(#fruits1)을 찾고,\n",
    "#상위태그2(#fruits1) 바로 아래에 있는 태그(span.name)을 모두 찾았다. \n",
    "#두번째 코드는 상위태그(div.sale) 바로 아래에 있는 태그뿐 아니라 몇 단계 아래의 태그 중에서 태그 정보(span.name)\n",
    "#을 모두 찾았다. \n",
    "tags_banana2 = soup.select('div.sale > #fruits1 > span.name')\n",
    "tags_banana3 = soup.select('div.sale span.name')\n",
    "print(tags_banana2)\n",
    "print(tags_banana3)\n"
   ]
  },
  {
   "cell_type": "code",
   "execution_count": 30,
   "metadata": {},
   "outputs": [
    {
     "data": {
      "text/plain": [
       "<span class=\"name\"> 바나나 </span>"
      ]
     },
     "execution_count": 30,
     "metadata": {},
     "output_type": "execute_result"
    }
   ],
   "source": [
    "#태그 그룹에서 하나의 태그만 선택\n",
    "tags = soup.select('span.name')\n",
    "tag_1 = tags[0]\n",
    "tag_1"
   ]
  },
  {
   "cell_type": "code",
   "execution_count": 31,
   "metadata": {},
   "outputs": [
    {
     "name": "stdout",
     "output_type": "stream",
     "text": [
      "<span class=\"name\"> 바나나 </span>\n",
      "<span class=\"name\"> 파인애플 </span>\n"
     ]
    }
   ],
   "source": [
    "tags = soup.select('span.name')\n",
    "for tag in tags:\n",
    "    print(tag)"
   ]
  },
  {
   "cell_type": "code",
   "execution_count": 32,
   "metadata": {},
   "outputs": [
    {
     "data": {
      "text/plain": [
       "'http://bit.ly/forPlaywithData'"
      ]
     },
     "execution_count": 32,
     "metadata": {},
     "output_type": "execute_result"
    }
   ],
   "source": [
    "#선택한 태그에서 텍스트, 속성값 가져오기\n",
    "tags = soup.select('a')\n",
    "tag = tags[0]\n",
    "content = tag.text \n",
    "content \n",
    "link = tag['href']\n",
    "link "
   ]
  },
  {
   "cell_type": "code",
   "execution_count": 33,
   "metadata": {},
   "outputs": [],
   "source": [
    "#멜론 노래 순위 정보 크롤링\n",
    "from selenium import webdriver\n",
    "from selenium.webdriver.chrome.service import Service\n",
    "from webdriver_manager.chrome import ChromeDriverManager\n",
    "from selenium.webdriver.common.by import By\n",
    "\n",
    "def set_chrome_driver():\n",
    "    chrome_options = webdriver.ChromeOptions()\n",
    "    driver = webdriver.Chrome(service=Service(ChromeDriverManager().install()), options=chrome_options)\n",
    "    return driver\n",
    "\n",
    "#이 부분을 수정한다. \n",
    "driver = set_chrome_driver()\n",
    "\n",
    "url = 'https://www.melon.com/chart/index.htm'\n",
    "driver.get(url)\n"
   ]
  },
  {
   "cell_type": "code",
   "execution_count": 34,
   "metadata": {},
   "outputs": [
    {
     "name": "stdout",
     "output_type": "stream",
     "text": [
      "100\n",
      "<tr class=\"lst50\" data-song-no=\"34819473\" id=\"lst50\">\n",
      "<td><div class=\"wrap t_right\"><input class=\"input_check\" name=\"input_check\" title=\"사건의 지평선 곡 선택\" type=\"checkbox\" value=\"34819473\"/></div></td>\n",
      "<td><div class=\"wrap t_center\"><span class=\"rank\">1</span><span class=\"none\">위</span></div></td>\n",
      "<!-- 차트순위 추가 -->\n",
      "<td><div class=\"wrap\">\n",
      "<span class=\"rank_wrap\" title=\"순위 동일\">\n",
      "<span class=\"bullet_icons rank_static\"><span class=\"none\">순위 동일</span></span>\n",
      "<span class=\"none\">0</span>\n",
      "</span>\n",
      "</div></td>\n",
      "<td><div class=\"wrap\">\n",
      "<a class=\"image_typeAll\" href=\"javascript:melon.link.goAlbumDetail('10903868');\" title=\"YOUNHA 6th Album Repackage 'END THEORY : Final Edition'\">\n",
      "<img alt=\"YOUNHA 6th Album Repackage 'END THEORY : Final Edition' - 페이지 이동\" height=\"60\" onerror=\"WEBPOCIMG.defaultAlbumImg(this);\" src=\"https://cdnimg.melon.co.kr/cm2/album/images/109/03/868/10903868_20220330103544_500.jpg/melon/resize/120/quality/80/optimize\" width=\"60\"/>\n",
      "<span class=\"bg_album_frame\"></span>\n",
      "</a>\n",
      "</div></td>\n",
      "<td><div class=\"wrap\">\n",
      "<a class=\"btn button_icons type03 song_info\" href=\"javascript:melon.link.goSongDetail('34819473');\" title=\"사건의 지평선 곡정보\"><span class=\"none\">곡정보</span></a>\n",
      "</div></td>\n",
      "<td><div class=\"wrap\">\n",
      "<div class=\"wrap_song_info\">\n",
      "<div class=\"ellipsis rank01\"><span>\n",
      "<a href=\"javascript:melon.play.playSong('1000002721',34819473);\" title=\"사건의 지평선 재생\">사건의 지평선</a>\n",
      "</span></div><br/>\n",
      "<div class=\"ellipsis rank02\">\n",
      "<a href=\"javascript:melon.link.goArtistDetail('203912');\" title=\"윤하 (YOUNHA) - 페이지 이동\">윤하 (YOUNHA)</a><span class=\"checkEllipsis\" style=\"display: none;\"><a href=\"javascript:melon.link.goArtistDetail('203912');\" title=\"윤하 (YOUNHA) - 페이지 이동\">윤하 (YOUNHA)</a></span>\n",
      "</div>\n",
      "</div>\n",
      "</div></td>\n",
      "<td><div class=\"wrap\">\n",
      "<div class=\"wrap_song_info\">\n",
      "<div class=\"ellipsis rank03\">\n",
      "<a href=\"javascript:melon.link.goAlbumDetail('10903868');\" title=\"YOUNHA 6th Album Repackage 'END THEORY : Final Edition' - 페이지 이동\">YOUNHA 6th Album Repackage 'END THEORY : Final Edition'</a>\n",
      "</div>\n",
      "</div>\n",
      "</div></td>\n",
      "<td><div class=\"wrap\">\n",
      "<button class=\"button_etc like\" data-song-menuid=\"1000002721\" data-song-no=\"34819473\" title=\"사건의 지평선 좋아요\" type=\"button\"><span class=\"odd_span\">좋아요</span>\n",
      "<span class=\"cnt\">\n",
      "<span class=\"none\">총건수</span>\n",
      "177,957</span></button>\n",
      "</div></td>\n",
      "<td><div class=\"wrap t_center\">\n",
      "<button class=\"button_icons play\" onclick=\"melon.play.playSong('1000002721',34819473);\" title=\"듣기\" type=\"button\"><span class=\"none\">듣기</span></button>\n",
      "</div></td>\n",
      "<td><div class=\"wrap t_center\">\n",
      "<button class=\"button_icons scrap\" onclick=\"melon.play.addPlayList('34819473');\" title=\"담기\" type=\"button\"><span class=\"none\">담기</span></button>\n",
      "</div></td>\n",
      "<td><div class=\"wrap t_center\">\n",
      "<button class=\"button_icons download\" onclick=\"melon.buy.goBuyProduct('frm', '34819473', '3C0001', '','0', '1000002721');\" title=\"다운로드\" type=\"button\"><span class=\"none\">다운로드</span></button>\n",
      "</div></td>\n",
      "<td><div class=\"wrap t_center\">\n",
      "<button class=\"button_icons video\" onclick=\"melon.link.goMvDetail('1000002721', '34819473','song');\" title=\"뮤직비디오\" type=\"button\"><span class=\"none\">뮤직비디오</span></button>\n",
      "</div></td>\n",
      "</tr>\n"
     ]
    }
   ],
   "source": [
    "#첫번째 줄에서 table > tbody > tr을 통해 곡 정보가 포함된 tr태그를 모두 찾았다. \n",
    "from bs4 import BeautifulSoup\n",
    "html = driver.page_source\n",
    "soup = BeautifulSoup(html, 'html.parser')\n",
    "songs = soup.select('table > tbody > tr')\n",
    "print(len(songs))\n",
    "print(songs[0])"
   ]
  },
  {
   "cell_type": "code",
   "execution_count": 35,
   "metadata": {},
   "outputs": [
    {
     "data": {
      "text/plain": [
       "6"
      ]
     },
     "execution_count": 35,
     "metadata": {},
     "output_type": "execute_result"
    }
   ],
   "source": [
    "#곡 제목찾기\n",
    "#조건에 만족하는 곡의 갯수가 6개\n",
    "song = songs[0]\n",
    "title = song.select('a')\n",
    "len(title)\n"
   ]
  },
  {
   "cell_type": "code",
   "execution_count": 36,
   "metadata": {},
   "outputs": [
    {
     "data": {
      "text/plain": [
       "2"
      ]
     },
     "execution_count": 36,
     "metadata": {},
     "output_type": "execute_result"
    }
   ],
   "source": [
    "#곡 제목찾기2\n",
    "title = song.select('span > a')\n",
    "len(title)"
   ]
  },
  {
   "cell_type": "code",
   "execution_count": 37,
   "metadata": {},
   "outputs": [
    {
     "data": {
      "text/plain": [
       "1"
      ]
     },
     "execution_count": 37,
     "metadata": {},
     "output_type": "execute_result"
    }
   ],
   "source": [
    "#곡 제목찾기3\n",
    "title = song.select('div.ellipsis.rank01 > span > a')\n",
    "len(title)"
   ]
  },
  {
   "cell_type": "code",
   "execution_count": 38,
   "metadata": {},
   "outputs": [
    {
     "data": {
      "text/plain": [
       "'사건의 지평선'"
      ]
     },
     "execution_count": 38,
     "metadata": {},
     "output_type": "execute_result"
    }
   ],
   "source": [
    "#곡 제목 가져오기\n",
    "title = song.select('div.ellipsis.rank01 > span > a')[0].text \n",
    "title"
   ]
  },
  {
   "cell_type": "code",
   "execution_count": 39,
   "metadata": {},
   "outputs": [
    {
     "data": {
      "text/plain": [
       "'윤하 (YOUNHA)'"
      ]
     },
     "execution_count": 39,
     "metadata": {},
     "output_type": "execute_result"
    }
   ],
   "source": [
    "#가수 정보 가져오기\n",
    "singer = song.select('div.ellipsis.rank02 > a')[0].text \n",
    "singer"
   ]
  },
  {
   "cell_type": "code",
   "execution_count": 40,
   "metadata": {},
   "outputs": [
    {
     "name": "stdout",
     "output_type": "stream",
     "text": [
      "사건의 지평선|윤하 (YOUNHA)\n",
      "Nxde|(여자)아이들\n",
      "ANTIFRAGILE|LE SSERAFIM (르세라핌)\n",
      "Hype boy|NewJeans\n",
      "After LIKE|IVE (아이브)\n",
      "새삥 (Prod. ZICO) (Feat. 호미들)|지코 (ZICO)\n",
      "사랑은 늘 도망가|임영웅\n",
      "Rush Hour (Feat. j-hope of BTS)|Crush\n",
      "우리들의 블루스|임영웅\n",
      "London Boy|임영웅\n",
      "Attention|NewJeans\n",
      "Polaroid|임영웅\n",
      "다시 만날 수 있을까|임영웅\n",
      "Monologue|테이\n",
      "무지개|임영웅\n",
      "이제 나만 믿어요|임영웅\n",
      "아버지|임영웅\n",
      "Shut Down|BLACKPINK\n",
      "LOVE DIVE|IVE (아이브)\n",
      "A bientot|임영웅\n",
      "손이 참 곱던 그대|임영웅\n",
      "인생찬가|임영웅\n",
      "사랑해 진짜|임영웅\n",
      "연애편지|임영웅\n",
      "자격지심 (Feat. ZICO)|BE'O (비오)\n",
      "Pink Venom|BLACKPINK\n",
      "보금자리|임영웅\n",
      "딱 10CM만|10CM\n",
      "해요 (2022)|#안녕\n",
      "그때 그 순간 그대로 (그그그)|WSG워너비 (가야G)\n",
      "우린 그렇게 사랑해서|강민경 (다비치)\n",
      "TOMBOY|(여자)아이들\n",
      "그라데이션|10CM\n",
      "내가 아니라도|주호\n",
      "사랑인가 봐|멜로망스\n",
      "Cookie|NewJeans\n",
      "너의 모든 순간|성시경\n",
      "떠나보낼 준비해 둘걸 그랬어|임한별\n",
      "보고싶었어|WSG워너비 (4FIRE)\n",
      "FEARLESS|LE SSERAFIM (르세라핌)\n",
      "정이라고 하자 (Feat. 10CM)|BIG Naughty (서동현)\n",
      "나의 X에게|경서\n",
      "That That (prod. & feat. SUGA of BTS)|싸이 (PSY)\n",
      "ELEVEN|IVE (아이브)\n",
      "취중고백|김민석 (멜로망스)\n",
      "다정히 내 이름을 부르면|경서예지\n",
      "고백연습|경서\n",
      "That's Hilarious|Charlie Puth\n",
      "내 기쁨은 너가 벤틀리를 끄는 거야|김승민\n",
      "FOREVER 1|소녀시대 (GIRLS' GENERATION)\n",
      "The Astronaut|진\n",
      "Dynamite|방탄소년단\n",
      "주저하는 연인들을 위해|잔나비\n",
      "LOVE me|BE'O (비오)\n",
      "새벽에 걸려온 너의 전화는|한동근\n",
      "I Don't Think That I Like Her|Charlie Puth\n",
      "첫사랑|백아\n",
      "LAW (Prod. Czaer)|윤미래\n",
      "Love story|볼빨간사춘기\n",
      "Left and Right (Feat. Jung Kook of BTS)|Charlie Puth\n",
      "Butter|방탄소년단\n",
      "모든 날, 모든 순간 (Every day, Every Moment)|폴킴\n",
      "SNEAKERS|ITZY (있지)\n",
      "그중에 그대를 만나|김호중\n",
      "도깨비불 (Illusion)|aespa\n",
      "밤하늘의 별을(2020)|경서\n",
      "Yet To Come|방탄소년단\n",
      "봄날|방탄소년단\n",
      "사랑한다고 말해줘|탑현\n",
      "봄여름가을겨울 (Still Life)|BIGBANG (빅뱅)\n",
      "나의 목소리로|김호중\n",
      "Permission to Dance|방탄소년단\n",
      "STAY|The Kid LAROI\n",
      "스티커 사진|21학번\n",
      "모든 계절은 너였다|길구봉구\n",
      "그래서 그대는|이영현\n",
      "POP!|나연 (TWICE)\n",
      "인생은 뷰티풀|김호중\n",
      "strawberry moon|아이유\n",
      "신호등|이무진\n",
      "못해|김나영\n",
      "Feel My Rhythm|Red Velvet (레드벨벳)\n",
      "내 손을 잡아|아이유\n",
      "INVU|태연 (TAEYEON)\n",
      "MY BAG|(여자)아이들\n",
      "통화연결음|보라미유\n",
      "Next Level|aespa\n",
      "드라마|아이유\n",
      "바보에게 바보가 (웹툰 '연애의 발견' X 이석훈)|이석훈\n",
      "Off My Face|Justin Bieber\n",
      "늦은 밤 헤어지긴 너무 아쉬워|케이시 (Kassy)\n",
      "회전목마 (Feat. Zion.T, 원슈타인) (Prod. Slom)|sokodomo\n",
      "주마등|김호중\n",
      "편지 (영화 '동감' X 윤하 (YOUNHA))|윤하 (YOUNHA)\n",
      "빛이 나는 사람|김호중\n",
      "Girls|aespa\n",
      "너를 생각해|주시크 (Joosiq)\n",
      "GHOST TOWN|Benson Boone\n",
      "약속 [約束]|김호중\n",
      "슬픈등|김호중\n"
     ]
    }
   ],
   "source": [
    "#이번에는 100곡의 노래순위 정보 가져오기\n",
    "for song in songs:\n",
    "    title = song.select('div.ellipsis.rank01 > span >a')[0].text \n",
    "    singer = song.select('div.ellipsis.rank02 > a')[0].text \n",
    "    print(title, singer, sep = \"|\")"
   ]
  },
  {
   "cell_type": "code",
   "execution_count": 41,
   "metadata": {},
   "outputs": [
    {
     "ename": "AttributeError",
     "evalue": "'WebDriver' object has no attribute 'find_elements_by_css_selector'",
     "output_type": "error",
     "traceback": [
      "\u001b[1;31m---------------------------------------------------------------------------\u001b[0m",
      "\u001b[1;31mAttributeError\u001b[0m                            Traceback (most recent call last)",
      "Cell \u001b[1;32mIn [41], line 9\u001b[0m\n\u001b[0;32m      6\u001b[0m url \u001b[39m=\u001b[39m \u001b[39m'\u001b[39m\u001b[39mhttp://www.melon.com/chart/index.htm\u001b[39m\u001b[39m'\u001b[39m\n\u001b[0;32m      7\u001b[0m driver\u001b[39m.\u001b[39mget(url)\n\u001b[1;32m----> 9\u001b[0m songs \u001b[39m=\u001b[39m driver\u001b[39m.\u001b[39;49mfind_elements_by_css_selector(\u001b[39m'\u001b[39m\u001b[39mtable > tbody > tr\u001b[39m\u001b[39m'\u001b[39m)\n\u001b[0;32m     10\u001b[0m \u001b[39mfor\u001b[39;00m song \u001b[39min\u001b[39;00m songs: \n\u001b[0;32m     11\u001b[0m     title \u001b[39m=\u001b[39m song\u001b[39m.\u001b[39mfind_elements_by_css_selector(\u001b[39m'\u001b[39m\u001b[39mdiv.ellipsis.rank01 > span > a\u001b[39m\u001b[39m'\u001b[39m)[\u001b[39m0\u001b[39m]\u001b[39m.\u001b[39mtext \n",
      "\u001b[1;31mAttributeError\u001b[0m: 'WebDriver' object has no attribute 'find_elements_by_css_selector'"
     ]
    }
   ],
   "source": [
    "#selenium을 활용한 크롤링\n",
    "#selenium을 사용하면 웹 페이지에 계속 접속한 상태로 정보를 가져온다는 특징이 있다. \n",
    "#이 부분을 수정한다. \n",
    "driver = set_chrome_driver()\n",
    "\n",
    "url = 'http://www.melon.com/chart/index.htm'\n",
    "driver.get(url)\n",
    "\n",
    "songs = driver.find_elements_by_css_selector('table > tbody > tr')\n",
    "for song in songs: \n",
    "    title = song.find_elements_by_css_selector('div.ellipsis.rank01 > span > a')[0].text \n",
    "    singer = song.find_elements_by_css_selector('div.ellipsis.rank02 > a')[0].text \n",
    "    print(title, singer, sep=\"||\")"
   ]
  },
  {
   "cell_type": "code",
   "execution_count": null,
   "metadata": {},
   "outputs": [],
   "source": [
    "#멜론 크롤링 결과를 엑셀로 저장하기 \n",
    "\n",
    "url = 'http://www.melon.com/chart/index.htm'\n",
    "driver.get(url)\n",
    "\n",
    "html = driver.page_source \n",
    "soup = BeautifulSoup(html, 'html.parser')"
   ]
  },
  {
   "cell_type": "code",
   "execution_count": null,
   "metadata": {},
   "outputs": [],
   "source": [
    "#반복문을 이용해 곡과 가수명을 song_data에 저장하기\n",
    "song_data = []\n",
    "rank = 1 \n",
    "songs = soup.select('table > tbody > tr')\n",
    "for song in songs:\n",
    "    title = song.select('div.rank01 > span > a')[0].text \n",
    "    singer = song.select('div.rank02 > a')[0].text \n",
    "    song_data.append(['Melon',rank,title,singer])\n",
    "    rank = rank + 1 \n",
    "\n"
   ]
  },
  {
   "cell_type": "code",
   "execution_count": null,
   "metadata": {},
   "outputs": [
    {
     "data": {
      "text/html": [
       "<div>\n",
       "<style scoped>\n",
       "    .dataframe tbody tr th:only-of-type {\n",
       "        vertical-align: middle;\n",
       "    }\n",
       "\n",
       "    .dataframe tbody tr th {\n",
       "        vertical-align: top;\n",
       "    }\n",
       "\n",
       "    .dataframe thead th {\n",
       "        text-align: right;\n",
       "    }\n",
       "</style>\n",
       "<table border=\"1\" class=\"dataframe\">\n",
       "  <thead>\n",
       "    <tr style=\"text-align: right;\">\n",
       "      <th></th>\n",
       "      <th>서비스</th>\n",
       "      <th>순위</th>\n",
       "      <th>타이틀</th>\n",
       "      <th>가수</th>\n",
       "    </tr>\n",
       "  </thead>\n",
       "  <tbody>\n",
       "    <tr>\n",
       "      <th>0</th>\n",
       "      <td>Melon</td>\n",
       "      <td>1</td>\n",
       "      <td>사건의 지평선</td>\n",
       "      <td>윤하 (YOUNHA)</td>\n",
       "    </tr>\n",
       "    <tr>\n",
       "      <th>1</th>\n",
       "      <td>Melon</td>\n",
       "      <td>2</td>\n",
       "      <td>Nxde</td>\n",
       "      <td>(여자)아이들</td>\n",
       "    </tr>\n",
       "    <tr>\n",
       "      <th>2</th>\n",
       "      <td>Melon</td>\n",
       "      <td>3</td>\n",
       "      <td>ANTIFRAGILE</td>\n",
       "      <td>LE SSERAFIM (르세라핌)</td>\n",
       "    </tr>\n",
       "    <tr>\n",
       "      <th>3</th>\n",
       "      <td>Melon</td>\n",
       "      <td>4</td>\n",
       "      <td>Hype boy</td>\n",
       "      <td>NewJeans</td>\n",
       "    </tr>\n",
       "    <tr>\n",
       "      <th>4</th>\n",
       "      <td>Melon</td>\n",
       "      <td>5</td>\n",
       "      <td>After LIKE</td>\n",
       "      <td>IVE (아이브)</td>\n",
       "    </tr>\n",
       "  </tbody>\n",
       "</table>\n",
       "</div>"
      ],
      "text/plain": [
       "     서비스  순위          타이틀                  가수\n",
       "0  Melon   1      사건의 지평선         윤하 (YOUNHA)\n",
       "1  Melon   2         Nxde             (여자)아이들\n",
       "2  Melon   3  ANTIFRAGILE  LE SSERAFIM (르세라핌)\n",
       "3  Melon   4     Hype boy            NewJeans\n",
       "4  Melon   5   After LIKE           IVE (아이브)"
      ]
     },
     "execution_count": 19,
     "metadata": {},
     "output_type": "execute_result"
    }
   ],
   "source": [
    "#이렇게 수집된 데이터를 데이터프레임으로 만든다.\n",
    "import pandas as pd \n",
    "columns = ['서비스','순위','타이틀','가수']\n",
    "pd_data = pd.DataFrame(song_data, columns=columns)\n",
    "pd_data.head()"
   ]
  },
  {
   "cell_type": "code",
   "execution_count": null,
   "metadata": {},
   "outputs": [],
   "source": [
    "#크롤링 결과를 엑셀로 저장하기\n",
    "pd_data.to_excel('c:\\work\\melon.xlsx', index=False)"
   ]
  },
  {
   "cell_type": "code",
   "execution_count": null,
   "metadata": {},
   "outputs": [],
   "source": [
    "#벅스 크롤링 결과를 엑셀에 저장하기\n",
    "\n",
    "url = 'https://music.bugs.co.kr/chart'\n",
    "driver.get(url)\n",
    "\n",
    "html = driver.page_source \n",
    "soup = BeautifulSoup(html, 'html.parser')"
   ]
  },
  {
   "cell_type": "code",
   "execution_count": null,
   "metadata": {},
   "outputs": [
    {
     "name": "stdout",
     "output_type": "stream",
     "text": [
      "104\n"
     ]
    }
   ],
   "source": [
    "#tr태그로 곡 정보 찾기1\n",
    "songs = soup.select('tr')\n",
    "print(len(songs))"
   ]
  },
  {
   "cell_type": "code",
   "execution_count": null,
   "metadata": {},
   "outputs": [
    {
     "name": "stdout",
     "output_type": "stream",
     "text": [
      "103\n"
     ]
    }
   ],
   "source": [
    "#tr태그로 곡 정보 찾기 2 \n",
    "songs = soup.select('tbody > tr')\n",
    "print(len(songs))"
   ]
  },
  {
   "cell_type": "code",
   "execution_count": null,
   "metadata": {},
   "outputs": [
    {
     "name": "stdout",
     "output_type": "stream",
     "text": [
      "100\n"
     ]
    }
   ],
   "source": [
    "#이번에는 table태그에 있는 byChart라는 class이름을 지정해 출력해 본다. \n",
    "songs = soup.select('table.byChart > tbody > tr')\n",
    "print(len(songs))"
   ]
  },
  {
   "cell_type": "code",
   "execution_count": null,
   "metadata": {},
   "outputs": [
    {
     "name": "stdout",
     "output_type": "stream",
     "text": [
      "<tr albumid=\"4080705\" artistid=\"20056456\" multiartist=\"N\" mvid=\"612174\" rowtype=\"track\" trackid=\"6179174\">\n",
      "<input name=\"_isStream\" type=\"hidden\" value=\"6179174\"/>\n",
      "<input name=\"_isDown\" type=\"hidden\" value=\"6179174\"/>\n",
      "<td class=\"check\"><input buyminquality=\"T\" disc_id=\"1\" name=\"check\" title=\"Nxde\" type=\"checkbox\" value=\"6179174\"/></td>\n",
      "<td>\n",
      "<div class=\"ranking\">\n",
      "<strong>1</strong>\n",
      "<p class=\"change none\"><em>0</em><span>변동없음</span></p>\n",
      "</div>\n",
      "</td>\n",
      "<td>\n",
      "<a class=\"thumbnail\" href=\"https://music.bugs.co.kr/album/4080705?wl_ref=list_tr_07_chart\" onclick=\"\n",
      "\">\n",
      "<span class=\"mask\"></span>\n",
      "<img alt=\"I love 대표이미지\" onerror=\"bugs.utils.imgError(this);\" src=\"https://image.bugsm.co.kr/album/images/50/40807/4080705.jpg?version=20221020022905.0\"/>\n",
      "</a>\n",
      "</td>\n",
      "<td>\n",
      "<a class=\"trackInfo\" href=\"https://music.bugs.co.kr/track/6179174?wl_ref=list_tr_08_chart\" onclick=\"\n",
      "\">곡정보</a>\n",
      "</td>\n",
      "<th scope=\"row\">\n",
      "<p adult_yn=\"N\" class=\"title\">\n",
      "<a adultcheckval=\"1\" aria-label=\"새창\" href=\"javascript:;\" onclick=\"bugs.wiselog.area('list_tr_09_chart');bugs.music.listen('6179174',true);\n",
      "\" title=\"Nxde\">Nxde</a>\n",
      "</p>\n",
      "</th>\n",
      "<td class=\"left\">\n",
      "<p class=\"artist\">\n",
      "<a href=\"https://music.bugs.co.kr/artist/20056456?wl_ref=list_tr_10_chart\" onclick=\"\n",
      "\" title=\"(여자)아이들\">(여자)아이들</a>\n",
      "</p>\n",
      "</td>\n",
      "<td class=\"left\">\n",
      "<a class=\"album\" href=\"https://music.bugs.co.kr/album/4080705?wl_ref=list_tr_11_chart\" onclick=\"\n",
      "\" title=\"I love\">I love</a>\n",
      "</td>\n",
      "<td>\n",
      "<a adultcheckval=\"1\" aria-label=\"새창\" class=\"btn play\" href=\"javascript:;\" onclick=\"bugs.wiselog.area('list_tr_12_chart');bugs.music.listen('6179174',true);\n",
      "\">듣기</a>\n",
      "</td>\n",
      "<td>\n",
      "<a adultcheckval=\"1\" aria-label=\"새창\" class=\"btn addPlaylist\" href=\"javascript:;\" onclick=\"bugs.wiselog.area('list_tr_13_chart');bugs.music.listen('6179174');\n",
      "\">재생목록에 추가</a>\n",
      "</td>\n",
      "<td>\n",
      "<a class=\"btn addAlbum\" href=\"javascript:;\" onclick=\"bugs.wiselog.area('list_tr_14_chart');bugs.music.addTrackToMyAlbum(this,'6179174');\n",
      "\" track_title=\"Nxde\">내 앨범에 담기</a>\n",
      "</td>\n",
      "<td>\n",
      "<a adultcheckval=\"1\" aria-label=\"새창\" class=\"btn download flac\" href=\"javascript:;\" onclick=\"bugs.wiselog.area('list_tr_15_chart');bugs.layermenu.down(this,'6179174','true','true','44.1','false','', null );\n",
      "\"><em class=\"flac\">flac </em>다운로드</a>\n",
      "</td>\n",
      "<td>\n",
      "<a aria-label=\"새창\" class=\"btn viewMV\" href=\"javascript:;\" onclick=\"bugs.wiselog.area('list_tr_16_chart');\n",
      "bugs.layermenu.mv(this,6179174, 612174, 'Y', 'Y', 'Y', 'Y', 6179174, 'N','OVER_15', 'Y');\n",
      "\">영상 재생</a>\n",
      "</td>\n",
      "<td>\n",
      "<a artist_disp_nm=\"(여자)아이들\" artist_id=\"20056456\" class=\"btnActions\" href=\"javascript:;\" layer_type=\"CHART\" layerpositiontarget=\"td\" onclick=\"bugs.wiselog.area('list_tr_17_chart');\n",
      "bugs.layermenu.trackMoreAction(this,'6179174','0','4080705','bugs.music.listenRadioFromSeed(\\'6179174\\',\\'track\\');','N', 'Y', '_chart');\n",
      "\" track_title=\"Nxde\">기타 기능</a>\n",
      "</td>\n",
      "</tr>\n"
     ]
    }
   ],
   "source": [
    "print(songs[0])"
   ]
  },
  {
   "cell_type": "code",
   "execution_count": null,
   "metadata": {},
   "outputs": [
    {
     "data": {
      "text/plain": [
       "11"
      ]
     },
     "execution_count": 52,
     "metadata": {},
     "output_type": "execute_result"
    }
   ],
   "source": [
    "#한개의 곡 정보 지정하기\n",
    "song = songs[0]\n",
    "#벅스 사이트에서 곡 제목 찾기1\n",
    "title = song.select('a')\n",
    "len(title)"
   ]
  },
  {
   "cell_type": "code",
   "execution_count": null,
   "metadata": {},
   "outputs": [
    {
     "data": {
      "text/plain": [
       "[<a adultcheckval=\"1\" aria-label=\"새창\" href=\"javascript:;\" onclick=\"bugs.wiselog.area('list_tr_09_chart');bugs.music.listen('6179174',true);\n",
       " \" title=\"Nxde\">Nxde</a>,\n",
       " <a href=\"https://music.bugs.co.kr/artist/20056456?wl_ref=list_tr_10_chart\" onclick=\"\n",
       " \" title=\"(여자)아이들\">(여자)아이들</a>]"
      ]
     },
     "execution_count": 54,
     "metadata": {},
     "output_type": "execute_result"
    }
   ],
   "source": [
    "title = song.select('p > a')\n",
    "len(title)\n"
   ]
  },
  {
   "cell_type": "code",
   "execution_count": null,
   "metadata": {},
   "outputs": [
    {
     "data": {
      "text/plain": [
       "1"
      ]
     },
     "execution_count": 55,
     "metadata": {},
     "output_type": "execute_result"
    }
   ],
   "source": [
    "#벅스 사이트에서 곡 제목 찾기3\n",
    "title = song.select('p.title > a')\n",
    "len(title)"
   ]
  },
  {
   "cell_type": "code",
   "execution_count": null,
   "metadata": {},
   "outputs": [
    {
     "data": {
      "text/plain": [
       "'Nxde'"
      ]
     },
     "execution_count": 56,
     "metadata": {},
     "output_type": "execute_result"
    }
   ],
   "source": [
    "#벅스 사이트에서 곡 제목 출력하기\n",
    "title = song.select('p.title > a')[0].text \n",
    "title"
   ]
  },
  {
   "cell_type": "code",
   "execution_count": null,
   "metadata": {},
   "outputs": [
    {
     "data": {
      "text/plain": [
       "'(여자)아이들'"
      ]
     },
     "execution_count": 57,
     "metadata": {},
     "output_type": "execute_result"
    }
   ],
   "source": [
    "#가수 이름 출력하기\n",
    "singer = song.select('p.artist > a')[0].text.strip()\n",
    "singer"
   ]
  },
  {
   "cell_type": "code",
   "execution_count": null,
   "metadata": {},
   "outputs": [
    {
     "name": "stdout",
     "output_type": "stream",
     "text": [
      "Nxde|(여자)아이들\n",
      "ANTIFRAGILE|LE SSERAFIM (르세라핌)\n",
      "사건의 지평선|윤하(Younha/ユンナ)\n",
      "Hype Boy|NewJeans\n",
      "After LIKE|IVE (아이브)\n",
      "Youth|기현\n",
      "새삥 (Prod. ZICO) (Feat. 호미들)|지코\n",
      "Shut Down|BLACKPINK\n",
      "Attention|NewJeans\n",
      "Rush Hour (Feat. j-hope of BTS)|Crush\n",
      "LOVE DIVE|IVE (아이브)\n",
      "자격지심 (Feat. ZICO)|BE'O (비오)\n",
      "Monologue|테이(Tei)\n",
      "진심이었던 사람만 바보가 돼|권진아\n",
      "우린 그렇게 사랑해서|강민경\n",
      "Pink Venom|BLACKPINK\n",
      "딱 10CM만|10CM\n",
      "Bad Liar|기현\n",
      "STARDUST|기현\n",
      "I Don’t Think That I Like Her|Charlie Puth(찰리 푸스)\n",
      "Where Is This Love|기현\n",
      "'Cause of You|기현\n",
      "파노라마|이찬혁\n",
      "ILLELLA (일낼라)|마마무(Mamamoo)\n",
      "Loveable|조유리\n",
      "FEARLESS|LE SSERAFIM (르세라핌)\n",
      "Cookie|NewJeans\n",
      "사랑아|KCM\n",
      "TOMBOY|(여자)아이들\n",
      "그때로 돌아가|로이킴\n",
      "ELEVEN|IVE (아이브)\n",
      "LOVE|(여자)아이들\n",
      "주저하는 연인들을 위해|잔나비\n",
      "Change|(여자)아이들\n",
      "DICE|NMIXX\n",
      "그라데이션|10CM\n",
      "LAW (Prod. Czaer)|윤미래\n",
      "내가 아니라도|주호\n",
      "떠나보낼 준비해 둘걸 그랬어|임한별\n",
      "사랑인가 봐|멜로망스(MeloMance)\n",
      "Talk that Talk|TWICE (트와이스)\n",
      "해요 (2022)|#안녕\n",
      "When I Get Old|Christopher(크리스토퍼)\n",
      "그래서 그대는|이영현\n",
      "That's Hilarious|Charlie Puth(찰리 푸스)\n",
      "정이라고 하자 (Feat. 10CM)|BIG Naughty (서동현)\n",
      "불륜|비비(BIBI)\n",
      "Anti-Hero|Taylor Swift(테일러 스위프트)\n",
      "Dangerously|Charlie Puth(찰리 푸스)\n",
      "FOREVER 1|소녀시대 (GIRLS' GENERATION)\n",
      "그때 그 순간 그대로 (그그그)|WSG워너비 (가야G)\n",
      "도깨비불 (Illusion)|aespa\n",
      "사랑하긴 했었나요 스쳐가는 인연이었나요 짧지않은 우리 함께했던 시간들이 자꾸 내 마음을 가둬두네|잔나비\n",
      "SNEAKERS|ITZY (있지)\n",
      "너의 모든 순간|성시경\n",
      "Reset|(여자)아이들\n",
      "나의 X에게|경서\n",
      "Ready For Love|BLACKPINK\n",
      "다정히 내 이름을 부르면|경서예지\n",
      "28 Reasons|슬기(SEULGI)\n",
      "못해|김나영\n",
      "strawberry moon|아이유(IU)\n",
      "LOVE me|BE'O (비오)\n",
      "보고싶었어|WSG워너비 (4FIRE)\n",
      "Off My Face|Justin Bieber(저스틴 비버)\n",
      "STAY|The Kid LAROI\n",
      "POP!|나연 (TWICE)\n",
      "DOMESTIC (팔각정)|비\n",
      "내 기쁨은 너가 벤틀리를 끄는 거야|김승민\n",
      "I Ain't Worried|OneRepublic(원리퍼블릭)\n",
      "Go Back|Jvcki Wai\n",
      "MY BAG|(여자)아이들\n",
      "No Celestial|LE SSERAFIM (르세라핌)\n",
      "드라마|아이유(IU)\n",
      "Love story|볼빨간사춘기\n",
      "Feel My Rhythm|Red Velvet (레드벨벳)\n",
      "Boys Like You|ITZY (있지)\n",
      "Yeah Yeah Yeah|BLACKPINK\n",
      "뜨거운 여름밤은 가고 남은 건 볼품없지만|잔나비\n",
      "INVU|태연 (TAEYEON)\n",
      "CASE 143|Stray Kids (스트레이 키즈)\n",
      "봄여름가을겨울 (Still Life)|BIGBANG (빅뱅)\n",
      "취중고백|김민석 (멜로망스)\n",
      "Left and Right (Feat. Jung Kook of BTS)|Charlie Puth(찰리 푸스)\n",
      "사랑은 늘 도망가|임영웅\n",
      "모든 날, 모든 순간 (Every day, Every Moment)|폴킴(Paul Kim)\n",
      "No Rules|백호\n",
      "DARK (X-file)|(여자)아이들\n",
      "모토스피드 24시|비비(BIBI)\n",
      "Hurt|NewJeans\n",
      "가을밤에 든 생각|잔나비\n",
      "Good Parts (when the quality is bad but I am)|LE SSERAFIM (르세라핌)\n",
      "Loser|Charlie Puth(찰리 푸스)\n",
      "팡파레|다비치\n",
      "Girls|aespa\n",
      "That That (prod. & feat. SUGA of BTS)|싸이 (PSY)\n",
      "열이올라요 (Heart Burn)|선미\n",
      "Blank|조유리\n",
      "Autumn Leaves|Luz Yoon\n",
      "Love Song|원슈타인\n"
     ]
    }
   ],
   "source": [
    "#벅스 100위 노래 순위 가져오기\n",
    "songs = soup.select('table.byChart > tbody > tr')\n",
    "for song in songs:\n",
    "    title = song.select('p.title > a')[0].text \n",
    "    singer = song.select('p.artist > a')[0].text \n",
    "    print(title, singer, sep=\"|\")"
   ]
  },
  {
   "cell_type": "code",
   "execution_count": null,
   "metadata": {},
   "outputs": [],
   "source": [
    "#반복문으로 곡과 가수명을 song_data에 저장하기\n",
    "song_data = []\n",
    "rank = 1 \n",
    "songs = soup.select('table.byChart > tbody > tr')\n",
    "for song in songs:\n",
    "    title = song.select('p.title > a')[0].text \n",
    "    singer = song.select('p.artist > a')[0].text \n",
    "    song_data.append(['Bugs', rank, title, singer])\n",
    "    rank = rank + 1 \n",
    "\n",
    "    "
   ]
  },
  {
   "cell_type": "code",
   "execution_count": null,
   "metadata": {},
   "outputs": [
    {
     "name": "stdout",
     "output_type": "stream",
     "text": [
      "<class 'pandas.core.frame.DataFrame'>\n",
      "RangeIndex: 100 entries, 0 to 99\n",
      "Data columns (total 4 columns):\n",
      " #   Column  Non-Null Count  Dtype \n",
      "---  ------  --------------  ----- \n",
      " 0   서비스     100 non-null    object\n",
      " 1   순위      100 non-null    int64 \n",
      " 2   타이틀     100 non-null    object\n",
      " 3   가수      100 non-null    object\n",
      "dtypes: int64(1), object(3)\n",
      "memory usage: 3.2+ KB\n"
     ]
    }
   ],
   "source": [
    "#데이터프레임 만들기\n",
    "import pandas as pd \n",
    "columns = ['서비스','순위','타이틀','가수']\n",
    "pd_data = pd.DataFrame(song_data, columns = columns)\n",
    "pd_data.info()"
   ]
  },
  {
   "cell_type": "code",
   "execution_count": null,
   "metadata": {},
   "outputs": [],
   "source": [
    "#엑셀 파일로 저장\n",
    "pd_data.to_excel('c:\\\\work\\\\bugs.xlsx', index=False)\n"
   ]
  },
  {
   "cell_type": "code",
   "execution_count": null,
   "metadata": {},
   "outputs": [],
   "source": [
    "#지니 크롤링 결과를 엑셀로 저장하기 \n",
    "\n",
    "url = 'https://www.genie.co.kr/chart/top200'\n",
    "driver.get(url)\n",
    "\n",
    "html = driver.page_source \n",
    "soup = BeautifulSoup(html, 'html.parser')"
   ]
  },
  {
   "cell_type": "code",
   "execution_count": null,
   "metadata": {},
   "outputs": [
    {
     "name": "stdout",
     "output_type": "stream",
     "text": [
      "50\n"
     ]
    }
   ],
   "source": [
    "songs = soup.select('table > tbody > tr')\n",
    "print(len(songs))"
   ]
  },
  {
   "cell_type": "code",
   "execution_count": null,
   "metadata": {},
   "outputs": [],
   "source": [
    "#지니 결과 엑셀로 저장하기\n",
    "song_data = []\n",
    "rank = 1 \n",
    "songs = soup.select('tbody > tr')\n",
    "for song in songs: \n",
    "    title = song.select('a.title')[0].text.strip()\n",
    "    singer = song.select('a.artist')[0].text \n",
    "    song_data.append(['Genie',rank,title,singer])\n",
    "    rank = rank + 1 \n",
    "\n",
    "columns = ['서비스','순위','타이틀','가수']\n",
    "pd_data = pd.DataFrame(song_data, columns=columns)\n",
    "pd_data.to_excel('c:\\work\\genie.xlsx', index=False)"
   ]
  },
  {
   "cell_type": "code",
   "execution_count": null,
   "metadata": {},
   "outputs": [
    {
     "name": "stdout",
     "output_type": "stream",
     "text": [
      "<class 'pandas.core.frame.DataFrame'>\n",
      "Int64Index: 250 entries, 0 to 49\n",
      "Data columns (total 4 columns):\n",
      " #   Column  Non-Null Count  Dtype \n",
      "---  ------  --------------  ----- \n",
      " 0   서비스     250 non-null    object\n",
      " 1   순위      250 non-null    int64 \n",
      " 2   타이틀     250 non-null    object\n",
      " 3   가수      250 non-null    object\n",
      "dtypes: int64(1), object(3)\n",
      "memory usage: 9.8+ KB\n"
     ]
    },
    {
     "name": "stderr",
     "output_type": "stream",
     "text": [
      "C:\\Users\\user\\AppData\\Local\\Temp\\ipykernel_14452\\1225656103.py:7: FutureWarning: The frame.append method is deprecated and will be removed from pandas in a future version. Use pandas.concat instead.\n",
      "  appended_data = appended_data.append(pd_data)\n",
      "C:\\Users\\user\\AppData\\Local\\Temp\\ipykernel_14452\\1225656103.py:7: FutureWarning: The frame.append method is deprecated and will be removed from pandas in a future version. Use pandas.concat instead.\n",
      "  appended_data = appended_data.append(pd_data)\n",
      "C:\\Users\\user\\AppData\\Local\\Temp\\ipykernel_14452\\1225656103.py:7: FutureWarning: The frame.append method is deprecated and will be removed from pandas in a future version. Use pandas.concat instead.\n",
      "  appended_data = appended_data.append(pd_data)\n"
     ]
    }
   ],
   "source": [
    "#멜론, 벅스, 지니 크롤링 엑셀 파일 통합하기 \n",
    "import pandas as pd \n",
    "excel_names = ['c:\\\\work\\\\melon.xlsx','c:\\\\work\\\\bugs.xlsx','c:\\\\work\\\\genie.xlsx']\n",
    "appended_data = pd.DataFrame()\n",
    "for name in excel_names:\n",
    "    pd_data = pd.read_excel(name)\n",
    "    appended_data = appended_data.append(pd_data)\n",
    "\n",
    "appended_data.info()"
   ]
  },
  {
   "cell_type": "code",
   "execution_count": null,
   "metadata": {},
   "outputs": [],
   "source": [
    "#통합한 크롤링 결과를 엑셀 파일로 저장하기\n",
    "appended_data.to_excel('c:\\\\work\\\\total.xlsx', index=False)\n"
   ]
  },
  {
   "cell_type": "code",
   "execution_count": null,
   "metadata": {},
   "outputs": [],
   "source": [
    "#유튜브 랭킹 데이터 수집하기\n",
    "from selenium import webdriver \n",
    "from bs4 import BeautifulSoup\n",
    "import time \n",
    "import pandas as pd \n",
    "\n",
    "#이 부분을 수정한다. \n",
    "driver = set_chrome_driver()\n",
    "\n",
    "url = 'https://youtube-rank.com/board/bbs/board.php?bo_table=youtube'\n",
    "driver.get(url)\n"
   ]
  },
  {
   "cell_type": "code",
   "execution_count": null,
   "metadata": {},
   "outputs": [],
   "source": [
    "#페이지 정보 가져오기\n",
    "html = driver.page_source \n",
    "soup = BeautifulSoup(html, 'html.parser')\n"
   ]
  },
  {
   "cell_type": "code",
   "execution_count": null,
   "metadata": {},
   "outputs": [
    {
     "name": "stdout",
     "output_type": "stream",
     "text": [
      "102 \n",
      "\n",
      "<tr>\n",
      "<th class=\"rank\"><a href=\"/board/bbs/board.php?bo_table=youtube&amp;sop=and&amp;sst=rank&amp;sod=desc&amp;sfl=&amp;stx=&amp;sca=&amp;page=1\">순위 <i aria-hidden=\"true\" class=\"fa fa-sort\"></i></a></th>\n",
      "<th class=\"td_img\">이미지</th>\n",
      "<th class=\"subject\">제목</th>\n",
      "<th class=\"subscriber_cnt\"><a href=\"/board/bbs/board.php?bo_table=youtube&amp;sop=and&amp;sst=subscriber_cnt&amp;sod=desc&amp;sfl=&amp;stx=&amp;sca=&amp;page=1\">구독자순 <i aria-hidden=\"true\" class=\"fa fa-sort\"></i></a></th>\n",
      "<th class=\"view_cnt\"><a href=\"/board/bbs/board.php?bo_table=youtube&amp;sop=and&amp;sst=view_cnt&amp;sod=desc&amp;sfl=&amp;stx=&amp;sca=&amp;page=1\">View순 <i aria-hidden=\"true\" class=\"fa fa-sort\"></i></a></th>\n",
      "<th class=\"video_cnt\"><a href=\"/board/bbs/board.php?bo_table=youtube&amp;sop=and&amp;sst=video_cnt&amp;sod=desc&amp;sfl=&amp;stx=&amp;sca=&amp;page=1\">Video순 <i aria-hidden=\"true\" class=\"fa fa-sort\"></i></a></th>\n",
      "<th class=\"hit\"><a href=\"/board/bbs/board.php?bo_table=youtube&amp;sop=and&amp;sst=wr_hit&amp;sod=desc&amp;sfl=&amp;stx=&amp;sca=&amp;page=1\">조회수 <i aria-hidden=\"true\" class=\"fa fa-sort\"></i></a></th>\n",
      "</tr>\n"
     ]
    }
   ],
   "source": [
    "#tr태그 추출하기\n",
    "channel_list = soup.select('tr')\n",
    "print(len(channel_list), '\\n')\n",
    "print(channel_list[0])"
   ]
  },
  {
   "cell_type": "code",
   "execution_count": null,
   "metadata": {},
   "outputs": [
    {
     "name": "stdout",
     "output_type": "stream",
     "text": [
      "100\n"
     ]
    }
   ],
   "source": [
    "#tr 태그 확인하기\n",
    "channel_list = soup.select('form > table > tbody > tr')\n",
    "print(len(channel_list))"
   ]
  },
  {
   "cell_type": "code",
   "execution_count": null,
   "metadata": {},
   "outputs": [
    {
     "name": "stdout",
     "output_type": "stream",
     "text": [
      "<tr class=\"aos-init aos-animate\" data-aos=\"fade-up\" data-aos-duration=\"800\">\n",
      "<td class=\"rank\">\n",
      "                        1                    </td>\n",
      "<td class=\"td_img\">\n",
      "<div class=\"info_img\"><a href=\"https://youtube-rank.com/board/bbs/board.php?bo_table=youtube&amp;wr_id=3203\"><img class=\"lazyload\" data-src=\"https://yt3.ggpht.com/hZDUwjoeQqigphL4A1tkg9c6hVp5yXmbboBR7PYFUSFj5PIJSA483NB5v7b0XVoTN9GCku3tqQ=s88-c-k-c0x00ffffff-no-nd-rj\" height=\"88\" src=\"https://yt3.ggpht.com/hZDUwjoeQqigphL4A1tkg9c6hVp5yXmbboBR7PYFUSFj5PIJSA483NB5v7b0XVoTN9GCku3tqQ=s88-c-k-c0x00ffffff-no-nd-rj\" width=\"88\"/></a></div>\n",
      "<p class=\"info_rank\">1</p>\n",
      "</td>\n",
      "<td class=\"subject\">\n",
      "<h1>\n",
      "<p <a=\"\" class=\"category\" href=\"https://youtube-rank.com/board/bbs/board.php?bo_table=youtube&amp;sca=%EC%9D%8C%EC%95%85%2F%EB%8C%84%EC%8A%A4%2F%EA%B0%80%EC%88%98\">[음악/댄스/가수]\n",
      "                                \n",
      "                                </p>\n",
      "<a href=\"https://youtube-rank.com/board/bbs/board.php?bo_table=youtube&amp;wr_id=3203\">\n",
      "\t\t\t\t\t\t\t\t\n",
      "\t\t\t\t\t\t\t\tBLACKPINK\t\t\t\t\t\t\t</a>\n",
      "<span>\n",
      "<i class=\"fa fa-comment\"></i>\n",
      "\t\t\t\t\t\t\t\t1\t\t\t\t\t\t\t</span>\n",
      "<i aria-hidden=\"true\" class=\"fa fa-heart\"></i> </h1>\n",
      "<h2><span><a href=\"https://youtube-rank.com/board/bbs/board.php?bo_table=youtube&amp;wr_id=3203\">\"YG Entertainment\" YG 와이지 K-pop BLACKPINK 블랙핑크 블핑 제니 로제 리사 지수 Lisa Jisoo Jennie ...</a></span></h2>\n",
      "<h3>\n",
      "<i class=\"fa fa-user\"></i>\n",
      "                            8250만<i class=\"fa fa-play\"></i>275억1754만                            <i class=\"fa fa-video-camera\"></i>\n",
      "                            443                            <i class=\"fa fa-eye\"></i>\n",
      "                            23,323                        </h3>\n",
      "</td>\n",
      "<td class=\"subscriber_cnt\">8250만</td>\n",
      "<td class=\"view_cnt\">275억1754만</td>\n",
      "<td class=\"video_cnt\">443개</td>\n",
      "<td class=\"hit\">\n",
      "<strong>23,323</strong>\n",
      "<span>HIT</span>\n",
      "</td>\n",
      "</tr>\n"
     ]
    }
   ],
   "source": [
    "#채널 하나만 출력하기\n",
    "channel = channel_list[0]\n",
    "print(channel)"
   ]
  },
  {
   "cell_type": "code",
   "execution_count": null,
   "metadata": {},
   "outputs": [
    {
     "name": "stdout",
     "output_type": "stream",
     "text": [
      "[음악/댄스/가수]\n"
     ]
    }
   ],
   "source": [
    "#카테코리 정보 추출하기\n",
    "category = channel.select('p.category')[0].text.strip()\n",
    "print(category)"
   ]
  },
  {
   "cell_type": "code",
   "execution_count": null,
   "metadata": {},
   "outputs": [
    {
     "name": "stdout",
     "output_type": "stream",
     "text": [
      "BLACKPINK\n"
     ]
    }
   ],
   "source": [
    "#채널명 찾아오기\n",
    "title = channel.select('h1 > a')[0].text.strip()\n",
    "print(title)"
   ]
  },
  {
   "cell_type": "code",
   "execution_count": null,
   "metadata": {},
   "outputs": [
    {
     "name": "stdout",
     "output_type": "stream",
     "text": [
      "8250만\n",
      "275억1754만\n",
      "443개\n"
     ]
    }
   ],
   "source": [
    "#구독자수, View수, 동영상수 추출하기\n",
    "subscriber = channel.select('.subscriber_cnt')[0].text \n",
    "view = channel.select('.view_cnt')[0].text \n",
    "video = channel.select('.video_cnt')[0].text \n",
    "\n",
    "print(subscriber)\n",
    "print(view)\n",
    "print(video)\n"
   ]
  },
  {
   "cell_type": "code",
   "execution_count": null,
   "metadata": {},
   "outputs": [
    {
     "name": "stdout",
     "output_type": "stream",
     "text": [
      "BLACKPINK [음악/댄스/가수] 8250만 275억1754만 443개\n",
      "BANGTANTV [음악/댄스/가수] 7130만 182억0250만 1,836개\n",
      "HYBE LABELS [음악/댄스/가수] 6840만 248억8615만 1,017개\n",
      "SMTOWN [음악/댄스/가수] 3100만 257억5405만 3,989개\n",
      "Boram Tube Vlog [보람튜브 브이로그] [키즈/어린이] 2650만 110억5288만 223개\n",
      "JYP Entertainment [음악/댄스/가수] 2590만 178억6866만 1,570개\n",
      "1MILLION Dance Studio [음악/댄스/가수] 2570만 75억2000만 4,551개\n",
      "1theK (원더케이) [음악/댄스/가수] 2430만 229억0076만 17,271개\n",
      "Mnet K-POP [음악/댄스/가수] 1990만 135억5752만 29,418개\n",
      "KBS WORLD TV [TV/방송] 1840만 141억9962만 59,759개\n",
      "officialpsy [음악/댄스/가수] 1760만 100억6061만 121개\n",
      "JFlaMusic [음악/댄스/가수] 1760만 36억9562만 290개\n",
      "Jane ASMR 제인 [음식/요리/레시피] 1700만 67억0019만 1,622개\n",
      "BIGBANG [음악/댄스/가수] 1490만 74억6334만 776개\n",
      "TWICE [음악/댄스/가수] 1490만 40억9860만 934개\n",
      "Boram Tube ToysReview [보람튜브 토이리뷰] [키즈/어린이] 1440만 49억3355만 579개\n",
      "Hongyu ASMR 홍유 [음식/요리/레시피] 1410만 44억9779만 549개\n",
      "BIBO와 장난감 [키즈/어린이] 1270만 29억7333만 161개\n",
      "Kendrick Lamar [미분류] 1140만 50억0347만 20개\n",
      "핑크퐁 (인기 동요・동화) [키즈/어린이] 1100만 67억8078만 2,800개\n",
      "Stray Kids [음악/댄스/가수] 1080만 22억8295만 664개\n",
      "DuDuPopTOY [키즈/어린이] 1060만 49억2261만 2,292개\n",
      "[햄지]Hamzy [음식/요리/레시피] 1050만 34억1357만 490개\n",
      "Stone Music Entertainment [음악/댄스/가수] 1050만 91억3840만 9,330개\n",
      "Toymong tv 토이몽TV [키즈/어린이] 1050만 43억5863만 2,154개\n",
      "서은일상이야기 [키즈/어린이] 1020만 25억3092만 685개\n",
      "MBCkpop [TV/방송] 1000만 83억9588만 43,955개\n",
      "Larva TUBA [키즈/어린이] 985만 43억8708만 2,062개\n",
      "TOMORROW X TOGETHER OFFICIAL [음악/댄스/가수] 984만 9억6735만 1,223개\n",
      "서은이야기[SeoeunStory] [키즈/어린이] 943만 32억8899만 1,151개\n",
      "EXO [음악/댄스/가수] 896만 6억7600만 305개\n",
      "Mnet TV [음악/댄스/가수] 893만 110억3365만 20,836개\n",
      "MBCentertainment [뉴스/정치/사회] 887만 163억5379만 94,004개\n",
      "쏘영 Ssoyoung [음식/요리/레시피] 885만 11억5828만 663개\n",
      "Boram Tube [宝蓝和朋友们] [키즈/어린이] 882만 23억5982만 458개\n",
      "iKON [음악/댄스/가수] 875만 23억9079만 577개\n",
      "M2 [TV/방송] 869만 72억1392만 17,483개\n",
      "SEVENTEEN [음악/댄스/가수] 858만 33억0301만 1,271개\n",
      "Serie A [해외] 849만 31억0242만 23,827개\n",
      "문복희 Eat with Boki [음식/요리/레시피] 836만 21억8759만 629개\n",
      "이지금 [IU Official] [음악/댄스/가수] 818만 17억6278만 156개\n",
      "ITZY [음악/댄스/가수] 780만 18억1126만 820개\n",
      "MariAndKids [키즈/어린이] 761만 23억6654만 811개\n",
      "JTBC Entertainment [뉴스/정치/사회] 749만 112억0895만 73,940개\n",
      "HUBA후바 [미분류] 737만 58억1705만 366개\n",
      "SonicToy소닉토이 [키즈/어린이] 731만 31억1349만 168개\n",
      "KBS Kpop [TV/방송] 730만 62억2526만 35,447개\n",
      "tzuyang쯔양 [음식/요리/레시피] 718만 15억0901만 443개\n",
      "야미보이 Yummyboy [음식/요리/레시피] 715만 28억5498만 1,000개\n",
      "스브스케이팝 X INKIGAYO [TV/방송] 704만 53억3137만 31,344개\n",
      "Sungha Jung [음악/댄스/가수] 699만 19억5229만 1,350개\n",
      "YG ENTERTAINMENT [음악/댄스/가수] 686만 17억3811만 397개\n",
      "MAMAMOO [음악/댄스/가수] 685만 21억8200만 760개\n",
      "ENHYPEN [미분류] 683만 9억6702만 655개\n",
      "ALL THE K-POP [음악/댄스/가수] 677만 43억7455만 24,663개\n",
      "YouTube Originals [회사/오피셜] 671만 6억5154만 466개\n",
      "SBS Entertainment [TV/방송] 659만 82억5798만 223,675개\n",
      "미니특공대TV [키즈/어린이] 653만 36억9619만 1,349개\n",
      "TREASURE (트레저) [음악/댄스/가수] 649만 16억7183만 582개\n",
      "[장난감티비]TOYTV [키즈/어린이] 645만 30억8219만 1,608개\n",
      "tvN drama [TV/방송] 641만 70억6578만 45,787개\n",
      "SBS Drama [TV/방송] 635만 68억5033만 343,833개\n",
      "GOT7 [음악/댄스/가수] 629만 8억6288만 579개\n",
      "Samsung [회사/오피셜] 625만 15억7148만 1,651개\n",
      "PONY Syndrome [패션/미용] 594만 3억6103만 230개\n",
      "PinkyPopTOY [키즈/어린이] 569만 9억6123만 1,483개\n",
      "starshipTV [음악/댄스/가수] 564만 35억7593만 2,074개\n",
      "With Kids Playground [위드키즈 놀이터] [키즈/어린이] 560만 21억1398만 437개\n",
      "스위트티비 SweetTV [키즈/어린이] 560만 28억1561만 437개\n",
      "백종원의 요리비책 Paik's Cuisine [음식/요리/레시피] 558만 7억5547만 468개\n",
      "2NE1 [음악/댄스/가수] 555만 21억5484만 321개\n",
      "NCT [음악/댄스/가수] 552만 7억1087만 439개\n",
      "영국남자 Korean Englishman [BJ/인물/연예인] 542만 18억2457만 491개\n",
      "GH'S [미분류] 537만 27억3080만 212개\n",
      "TOY GUMA [키즈/어린이] 535만 17억5758만 362개\n",
      "NCT DREAM [음악/댄스/가수] 528만 8억6291만 422개\n",
      "MayTree [미분류] 525만 10억5450만 182개\n",
      "콩순이 · 시크릿쥬쥬 [Kongsuni · Secret Jouju] [키즈/어린이] 525만 48억8389만 1,373개\n",
      "베이비버스 -인기 동요・동화 [키즈/어린이] 524만 36억7741만 1,493개\n",
      "[Awesome Haeun]어썸하은 [BJ/인물/연예인] 522만 8억5869만 521개\n",
      "Red Velvet [음악/댄스/가수] 520만 11억0707만 235개\n",
      "푸메Fume [음식/요리/레시피] 519만 11억2366만 606개\n",
      "Rosesarerosie [음악/댄스/가수] 511만 5067만 9개\n",
      "SBS NOW / SBS 공식 채널 [뉴스/정치/사회] 511만 53억9368만 22,544개\n",
      "5 분 Tricks [음식/요리/레시피] 507만 19억5702만 3,998개\n",
      "미니팡TV [키즈/어린이] 502만 33억7284만 847개\n",
      "KBS Entertain [TV/방송] 494만 85억2480만 111,349개\n",
      "BT21 [음악/댄스/가수] 494만 4억4388만 271개\n",
      "NCT 127 [음악/댄스/가수] 491만 7억6489만 462개\n",
      "ToyMart TV [키즈/어린이] 486만 21억4304만 666개\n",
      "MBCdrama [TV/방송] 483만 55억5743만 58,161개\n",
      "떵개떵 [음식/요리/레시피] 482만 28억6687만 4,739개\n",
      "ASTRO 아스트로 [음악/댄스/가수] 480만 5억3626만 580개\n",
      "채널 십오야 [TV/방송] 476만 11억4911만 684개\n",
      "SBS TV동물농장x애니멀봐 [애완/반려동물] 471만 44억3112만 3,781개\n",
      "뽀로로(Pororo) [키즈/어린이] 464만 65억5689만 3,990개\n",
      "JTBC Drama [TV/방송] 461만 48억9934만 26,323개\n",
      "Cooking tree 쿠킹트리 [음식/요리/레시피] 461만 4억5754만 1,352개\n",
      "까니짱 [ G-NI : 蟹ちゃん] [음식/요리/레시피] 459만 13억1090만 687개\n",
      "CoCosToy 꼬꼬스토이 [키즈/어린이] 456만 27억7843만 644개\n"
     ]
    },
    {
     "ename": "IndexError",
     "evalue": "list index out of range",
     "output_type": "error",
     "traceback": [
      "\u001b[1;31m---------------------------------------------------------------------------\u001b[0m",
      "\u001b[1;31mIndexError\u001b[0m                                Traceback (most recent call last)",
      "Cell \u001b[1;32mIn [74], line 4\u001b[0m\n\u001b[0;32m      2\u001b[0m channel_list \u001b[39m=\u001b[39m soup\u001b[39m.\u001b[39mselect(\u001b[39m'\u001b[39m\u001b[39mtbody > tr\u001b[39m\u001b[39m'\u001b[39m)\n\u001b[0;32m      3\u001b[0m \u001b[39mfor\u001b[39;00m channel \u001b[39min\u001b[39;00m channel_list:\n\u001b[1;32m----> 4\u001b[0m     title \u001b[39m=\u001b[39m channel\u001b[39m.\u001b[39;49mselect(\u001b[39m'\u001b[39;49m\u001b[39mh1 > a\u001b[39;49m\u001b[39m'\u001b[39;49m)[\u001b[39m0\u001b[39;49m]\u001b[39m.\u001b[39mtext\u001b[39m.\u001b[39mstrip()\n\u001b[0;32m      5\u001b[0m     category \u001b[39m=\u001b[39m channel\u001b[39m.\u001b[39mselect(\u001b[39m'\u001b[39m\u001b[39mp.category\u001b[39m\u001b[39m'\u001b[39m)[\u001b[39m0\u001b[39m]\u001b[39m.\u001b[39mtext\u001b[39m.\u001b[39mstrip()\n\u001b[0;32m      6\u001b[0m     subscriber \u001b[39m=\u001b[39m channel\u001b[39m.\u001b[39mselect(\u001b[39m'\u001b[39m\u001b[39m.subscriber_cnt\u001b[39m\u001b[39m'\u001b[39m)[\u001b[39m0\u001b[39m]\u001b[39m.\u001b[39mtext \n",
      "\u001b[1;31mIndexError\u001b[0m: list index out of range"
     ]
    }
   ],
   "source": [
    "#반복문으로 채널 정보 추출하기\n",
    "channel_list = soup.select('tbody > tr')\n",
    "for channel in channel_list:\n",
    "    title = channel.select('h1 > a')[0].text.strip()\n",
    "    category = channel.select('p.category')[0].text.strip()\n",
    "    subscriber = channel.select('.subscriber_cnt')[0].text \n",
    "    view = channel.select('.view_cnt')[0].text \n",
    "    video = channel.select('.video_cnt')[0].text \n",
    "    print(title, category, subscriber, view, video)"
   ]
  },
  {
   "cell_type": "code",
   "execution_count": null,
   "metadata": {},
   "outputs": [],
   "source": [
    "#반복문으로 유튜브 랭킹 화면의 여러 페이지를 크롤링하기 \n",
    "results = []\n",
    "for page in range(1,11):\n",
    "    url = 'https://youtube-rank.com/board/bbs/board.php?bo_table=youtube&page={page}'\n",
    "    driver.get(url)\n",
    "    time.sleep(2)\n",
    "    html = driver.page_source \n",
    "    soup = BeautifulSoup(html, 'html.parser')\n",
    "    channel_list = soup.select('form > table > tbody > tr')\n",
    "    for channel in channel_list:\n",
    "        title = channel.select('h1 > a')[0].text.strip()\n",
    "        category = channel.select('p.category')[0].text.strip()\n",
    "        subscriber = channel.select('.subscriber_cnt')[0].text \n",
    "        view = channel.select('.view_cnt')[0].text \n",
    "        video = channel.select('.video_cnt')[0].text \n",
    "        data = [title, category, subscriber, view, video]\n",
    "        results.append(data)"
   ]
  },
  {
   "cell_type": "code",
   "execution_count": null,
   "metadata": {},
   "outputs": [],
   "source": [
    "#엑셀에 저장\n",
    "df = pd.DataFrame(results)\n",
    "df.columns = ['title','category','subscriber','view','video']\n",
    "df.to_excel('c:\\\\work\\\\youtube_rank.xlsx',index=False)"
   ]
  },
  {
   "cell_type": "code",
   "execution_count": null,
   "metadata": {},
   "outputs": [],
   "source": [
    "#유튜브 랭킹 데이터 시각화 \n",
    "import pandas as pd \n",
    "import matplotlib.pyplot as plt \n",
    "from matplotlib import font_manager, rc \n",
    "import platform \n",
    "\n",
    "if platform.system() == \"Windows\":\n",
    "    path = 'c:\\\\Windows\\\\Fonts\\\\malgun.ttf'\n",
    "    font_name = font_manager.FontProperties(fname=path).get_name() \n",
    "    rc('font', family=font_name)\n",
    "elif platform.system() == \"Darwin\":\n",
    "    rc('font', family='AppleGothic')\n",
    "else:\n",
    "    print('Check your OS system')\n",
    "\n",
    "\n",
    "\n",
    "\n"
   ]
  },
  {
   "cell_type": "code",
   "execution_count": null,
   "metadata": {},
   "outputs": [
    {
     "data": {
      "text/html": [
       "<div>\n",
       "<style scoped>\n",
       "    .dataframe tbody tr th:only-of-type {\n",
       "        vertical-align: middle;\n",
       "    }\n",
       "\n",
       "    .dataframe tbody tr th {\n",
       "        vertical-align: top;\n",
       "    }\n",
       "\n",
       "    .dataframe thead th {\n",
       "        text-align: right;\n",
       "    }\n",
       "</style>\n",
       "<table border=\"1\" class=\"dataframe\">\n",
       "  <thead>\n",
       "    <tr style=\"text-align: right;\">\n",
       "      <th></th>\n",
       "      <th>title</th>\n",
       "      <th>category</th>\n",
       "      <th>subscriber</th>\n",
       "      <th>view</th>\n",
       "      <th>video</th>\n",
       "    </tr>\n",
       "  </thead>\n",
       "  <tbody>\n",
       "    <tr>\n",
       "      <th>0</th>\n",
       "      <td>BLACKPINK</td>\n",
       "      <td>[음악/댄스/가수]</td>\n",
       "      <td>8250만</td>\n",
       "      <td>275억1754만</td>\n",
       "      <td>443개</td>\n",
       "    </tr>\n",
       "    <tr>\n",
       "      <th>1</th>\n",
       "      <td>BANGTANTV</td>\n",
       "      <td>[음악/댄스/가수]</td>\n",
       "      <td>7130만</td>\n",
       "      <td>182억0250만</td>\n",
       "      <td>1,836개</td>\n",
       "    </tr>\n",
       "    <tr>\n",
       "      <th>2</th>\n",
       "      <td>HYBE LABELS</td>\n",
       "      <td>[음악/댄스/가수]</td>\n",
       "      <td>6840만</td>\n",
       "      <td>248억8615만</td>\n",
       "      <td>1,017개</td>\n",
       "    </tr>\n",
       "    <tr>\n",
       "      <th>3</th>\n",
       "      <td>SMTOWN</td>\n",
       "      <td>[음악/댄스/가수]</td>\n",
       "      <td>3100만</td>\n",
       "      <td>257억5405만</td>\n",
       "      <td>3,989개</td>\n",
       "    </tr>\n",
       "    <tr>\n",
       "      <th>4</th>\n",
       "      <td>Boram Tube Vlog [보람튜브 브이로그]</td>\n",
       "      <td>[키즈/어린이]</td>\n",
       "      <td>2650만</td>\n",
       "      <td>110억5288만</td>\n",
       "      <td>223개</td>\n",
       "    </tr>\n",
       "  </tbody>\n",
       "</table>\n",
       "</div>"
      ],
      "text/plain": [
       "                         title    category subscriber       view   video\n",
       "0                    BLACKPINK  [음악/댄스/가수]      8250만  275억1754만    443개\n",
       "1                    BANGTANTV  [음악/댄스/가수]      7130만  182억0250만  1,836개\n",
       "2                  HYBE LABELS  [음악/댄스/가수]      6840만  248억8615만  1,017개\n",
       "3                       SMTOWN  [음악/댄스/가수]      3100만  257억5405만  3,989개\n",
       "4  Boram Tube Vlog [보람튜브 브이로그]    [키즈/어린이]      2650만  110억5288만    223개"
      ]
     },
     "execution_count": 78,
     "metadata": {},
     "output_type": "execute_result"
    }
   ],
   "source": [
    "#엑셀 로딩 \n",
    "df = pd.read_excel('c:\\\\work\\\\youtube_rank.xlsx')\n",
    "df.head()\n"
   ]
  },
  {
   "cell_type": "code",
   "execution_count": null,
   "metadata": {},
   "outputs": [
    {
     "data": {
      "text/plain": [
       "0    8250만\n",
       "1    7130만\n",
       "2    6840만\n",
       "3    3100만\n",
       "4    2650만\n",
       "5    2590만\n",
       "6    2570만\n",
       "7    2430만\n",
       "8    1990만\n",
       "9    1840만\n",
       "Name: subscriber, dtype: object"
      ]
     },
     "execution_count": 79,
     "metadata": {},
     "output_type": "execute_result"
    }
   ],
   "source": [
    "#데이터 살펴보기 \n",
    "df['subscriber'][0:10]"
   ]
  },
  {
   "cell_type": "code",
   "execution_count": null,
   "metadata": {},
   "outputs": [
    {
     "data": {
      "text/plain": [
       "0    8250000\n",
       "1    7130000\n",
       "2    6840000\n",
       "3    3100000\n",
       "4    2650000\n",
       "5    2590000\n",
       "6    2570000\n",
       "7    2430000\n",
       "8    1990000\n",
       "9    1840000\n",
       "Name: subscriber, dtype: object"
      ]
     },
     "execution_count": 82,
     "metadata": {},
     "output_type": "execute_result"
    }
   ],
   "source": [
    "df['subscriber'].str.replace('만', '000')[0:10]"
   ]
  },
  {
   "cell_type": "code",
   "execution_count": null,
   "metadata": {},
   "outputs": [
    {
     "data": {
      "text/html": [
       "<div>\n",
       "<style scoped>\n",
       "    .dataframe tbody tr th:only-of-type {\n",
       "        vertical-align: middle;\n",
       "    }\n",
       "\n",
       "    .dataframe tbody tr th {\n",
       "        vertical-align: top;\n",
       "    }\n",
       "\n",
       "    .dataframe thead th {\n",
       "        text-align: right;\n",
       "    }\n",
       "</style>\n",
       "<table border=\"1\" class=\"dataframe\">\n",
       "  <thead>\n",
       "    <tr style=\"text-align: right;\">\n",
       "      <th></th>\n",
       "      <th>title</th>\n",
       "      <th>category</th>\n",
       "      <th>subscriber</th>\n",
       "      <th>view</th>\n",
       "      <th>video</th>\n",
       "      <th>replaced_subscriber</th>\n",
       "    </tr>\n",
       "  </thead>\n",
       "  <tbody>\n",
       "    <tr>\n",
       "      <th>0</th>\n",
       "      <td>BLACKPINK</td>\n",
       "      <td>[음악/댄스/가수]</td>\n",
       "      <td>8250만</td>\n",
       "      <td>275억1754만</td>\n",
       "      <td>443개</td>\n",
       "      <td>8250000</td>\n",
       "    </tr>\n",
       "    <tr>\n",
       "      <th>1</th>\n",
       "      <td>BANGTANTV</td>\n",
       "      <td>[음악/댄스/가수]</td>\n",
       "      <td>7130만</td>\n",
       "      <td>182억0250만</td>\n",
       "      <td>1,836개</td>\n",
       "      <td>7130000</td>\n",
       "    </tr>\n",
       "    <tr>\n",
       "      <th>2</th>\n",
       "      <td>HYBE LABELS</td>\n",
       "      <td>[음악/댄스/가수]</td>\n",
       "      <td>6840만</td>\n",
       "      <td>248억8615만</td>\n",
       "      <td>1,017개</td>\n",
       "      <td>6840000</td>\n",
       "    </tr>\n",
       "    <tr>\n",
       "      <th>3</th>\n",
       "      <td>SMTOWN</td>\n",
       "      <td>[음악/댄스/가수]</td>\n",
       "      <td>3100만</td>\n",
       "      <td>257억5405만</td>\n",
       "      <td>3,989개</td>\n",
       "      <td>3100000</td>\n",
       "    </tr>\n",
       "    <tr>\n",
       "      <th>4</th>\n",
       "      <td>Boram Tube Vlog [보람튜브 브이로그]</td>\n",
       "      <td>[키즈/어린이]</td>\n",
       "      <td>2650만</td>\n",
       "      <td>110억5288만</td>\n",
       "      <td>223개</td>\n",
       "      <td>2650000</td>\n",
       "    </tr>\n",
       "  </tbody>\n",
       "</table>\n",
       "</div>"
      ],
      "text/plain": [
       "                         title    category subscriber       view   video  \\\n",
       "0                    BLACKPINK  [음악/댄스/가수]      8250만  275억1754만    443개   \n",
       "1                    BANGTANTV  [음악/댄스/가수]      7130만  182억0250만  1,836개   \n",
       "2                  HYBE LABELS  [음악/댄스/가수]      6840만  248억8615만  1,017개   \n",
       "3                       SMTOWN  [음악/댄스/가수]      3100만  257억5405만  3,989개   \n",
       "4  Boram Tube Vlog [보람튜브 브이로그]    [키즈/어린이]      2650만  110억5288만    223개   \n",
       "\n",
       "  replaced_subscriber  \n",
       "0             8250000  \n",
       "1             7130000  \n",
       "2             6840000  \n",
       "3             3100000  \n",
       "4             2650000  "
      ]
     },
     "execution_count": 83,
     "metadata": {},
     "output_type": "execute_result"
    }
   ],
   "source": [
    "#판다스에서 문자열을 다루는 다양한 함수를 제공한다. \n",
    "df['replaced_subscriber'] = df['subscriber'].str.replace('만','000')\n",
    "df.head()"
   ]
  },
  {
   "cell_type": "code",
   "execution_count": null,
   "metadata": {},
   "outputs": [
    {
     "name": "stdout",
     "output_type": "stream",
     "text": [
      "<class 'pandas.core.frame.DataFrame'>\n",
      "RangeIndex: 1000 entries, 0 to 999\n",
      "Data columns (total 6 columns):\n",
      " #   Column               Non-Null Count  Dtype \n",
      "---  ------               --------------  ----- \n",
      " 0   title                1000 non-null   object\n",
      " 1   category             1000 non-null   object\n",
      " 2   subscriber           1000 non-null   object\n",
      " 3   view                 1000 non-null   object\n",
      " 4   video                1000 non-null   object\n",
      " 5   replaced_subscriber  1000 non-null   object\n",
      "dtypes: object(6)\n",
      "memory usage: 47.0+ KB\n"
     ]
    }
   ],
   "source": [
    "df.info()"
   ]
  },
  {
   "cell_type": "code",
   "execution_count": null,
   "metadata": {},
   "outputs": [
    {
     "name": "stdout",
     "output_type": "stream",
     "text": [
      "<class 'pandas.core.frame.DataFrame'>\n",
      "RangeIndex: 1000 entries, 0 to 999\n",
      "Data columns (total 6 columns):\n",
      " #   Column               Non-Null Count  Dtype \n",
      "---  ------               --------------  ----- \n",
      " 0   title                1000 non-null   object\n",
      " 1   category             1000 non-null   object\n",
      " 2   subscriber           1000 non-null   object\n",
      " 3   view                 1000 non-null   object\n",
      " 4   video                1000 non-null   object\n",
      " 5   replaced_subscriber  1000 non-null   int32 \n",
      "dtypes: int32(1), object(5)\n",
      "memory usage: 43.1+ KB\n"
     ]
    }
   ],
   "source": [
    "#replaced_subscriber의 데이터 형식이 int가 아닌 것을 볼 수 있다.\n",
    "#astype()함수를 통해 변환한다. \n",
    "df['replaced_subscriber'] = df['replaced_subscriber'].astype('int')\n",
    "df.info()"
   ]
  },
  {
   "cell_type": "code",
   "execution_count": null,
   "metadata": {},
   "outputs": [
    {
     "data": {
      "text/html": [
       "<div>\n",
       "<style scoped>\n",
       "    .dataframe tbody tr th:only-of-type {\n",
       "        vertical-align: middle;\n",
       "    }\n",
       "\n",
       "    .dataframe tbody tr th {\n",
       "        vertical-align: top;\n",
       "    }\n",
       "\n",
       "    .dataframe thead tr th {\n",
       "        text-align: left;\n",
       "    }\n",
       "\n",
       "    .dataframe thead tr:last-of-type th {\n",
       "        text-align: right;\n",
       "    }\n",
       "</style>\n",
       "<table border=\"1\" class=\"dataframe\">\n",
       "  <thead>\n",
       "    <tr>\n",
       "      <th></th>\n",
       "      <th>sum</th>\n",
       "      <th>count</th>\n",
       "    </tr>\n",
       "    <tr>\n",
       "      <th></th>\n",
       "      <th>replaced_subscriber</th>\n",
       "      <th>replaced_subscriber</th>\n",
       "    </tr>\n",
       "    <tr>\n",
       "      <th>category</th>\n",
       "      <th></th>\n",
       "      <th></th>\n",
       "    </tr>\n",
       "  </thead>\n",
       "  <tbody>\n",
       "    <tr>\n",
       "      <th>[BJ/인물/연예인]</th>\n",
       "      <td>10640000</td>\n",
       "      <td>20</td>\n",
       "    </tr>\n",
       "    <tr>\n",
       "      <th>[TV/방송]</th>\n",
       "      <td>89920000</td>\n",
       "      <td>120</td>\n",
       "    </tr>\n",
       "    <tr>\n",
       "      <th>[뉴스/정치/사회]</th>\n",
       "      <td>21470000</td>\n",
       "      <td>30</td>\n",
       "    </tr>\n",
       "    <tr>\n",
       "      <th>[미분류]</th>\n",
       "      <td>36220000</td>\n",
       "      <td>50</td>\n",
       "    </tr>\n",
       "    <tr>\n",
       "      <th>[애완/반려동물]</th>\n",
       "      <td>4710000</td>\n",
       "      <td>10</td>\n",
       "    </tr>\n",
       "  </tbody>\n",
       "</table>\n",
       "</div>"
      ],
      "text/plain": [
       "                            sum               count\n",
       "            replaced_subscriber replaced_subscriber\n",
       "category                                           \n",
       "[BJ/인물/연예인]            10640000                  20\n",
       "[TV/방송]                89920000                 120\n",
       "[뉴스/정치/사회]             21470000                  30\n",
       "[미분류]                  36220000                  50\n",
       "[애완/반려동물]               4710000                  10"
      ]
     },
     "execution_count": 90,
     "metadata": {},
     "output_type": "execute_result"
    }
   ],
   "source": [
    "#이제는 카테고리별 채널 수와 구독사 수를 파이차트로 시각화하기 위해 \n",
    "#category.컬럼에서 개별 카테고리의 개수를 세어야 하고 replaced_subscriber컬럼에서\n",
    "#카테고리별 구독자 수를 모두 더해야 한다. \n",
    "pivot_df = df.pivot_table(index = 'category', values='replaced_subscriber', aggfunc=['sum','count'])\n",
    "pivot_df.head()"
   ]
  },
  {
   "cell_type": "code",
   "execution_count": null,
   "metadata": {},
   "outputs": [
    {
     "data": {
      "text/html": [
       "<div>\n",
       "<style scoped>\n",
       "    .dataframe tbody tr th:only-of-type {\n",
       "        vertical-align: middle;\n",
       "    }\n",
       "\n",
       "    .dataframe tbody tr th {\n",
       "        vertical-align: top;\n",
       "    }\n",
       "\n",
       "    .dataframe thead th {\n",
       "        text-align: right;\n",
       "    }\n",
       "</style>\n",
       "<table border=\"1\" class=\"dataframe\">\n",
       "  <thead>\n",
       "    <tr style=\"text-align: right;\">\n",
       "      <th></th>\n",
       "      <th>subscriber_sum</th>\n",
       "      <th>category_count</th>\n",
       "    </tr>\n",
       "    <tr>\n",
       "      <th>category</th>\n",
       "      <th></th>\n",
       "      <th></th>\n",
       "    </tr>\n",
       "  </thead>\n",
       "  <tbody>\n",
       "    <tr>\n",
       "      <th>[BJ/인물/연예인]</th>\n",
       "      <td>10640000</td>\n",
       "      <td>20</td>\n",
       "    </tr>\n",
       "    <tr>\n",
       "      <th>[TV/방송]</th>\n",
       "      <td>89920000</td>\n",
       "      <td>120</td>\n",
       "    </tr>\n",
       "    <tr>\n",
       "      <th>[뉴스/정치/사회]</th>\n",
       "      <td>21470000</td>\n",
       "      <td>30</td>\n",
       "    </tr>\n",
       "    <tr>\n",
       "      <th>[미분류]</th>\n",
       "      <td>36220000</td>\n",
       "      <td>50</td>\n",
       "    </tr>\n",
       "    <tr>\n",
       "      <th>[애완/반려동물]</th>\n",
       "      <td>4710000</td>\n",
       "      <td>10</td>\n",
       "    </tr>\n",
       "  </tbody>\n",
       "</table>\n",
       "</div>"
      ],
      "text/plain": [
       "             subscriber_sum  category_count\n",
       "category                                   \n",
       "[BJ/인물/연예인]        10640000              20\n",
       "[TV/방송]            89920000             120\n",
       "[뉴스/정치/사회]         21470000              30\n",
       "[미분류]              36220000              50\n",
       "[애완/반려동물]           4710000              10"
      ]
     },
     "execution_count": 91,
     "metadata": {},
     "output_type": "execute_result"
    }
   ],
   "source": [
    "#결과에서 카테고리별 구독자 수와 채널 수를 확인할 수 있다. 이번에는 해당 컬럼을 알아보기 쉽게 변경한다. \n",
    "pivot_df.columns = ['subscriber_sum', 'category_count']\n",
    "pivot_df.head()\n"
   ]
  },
  {
   "cell_type": "code",
   "execution_count": null,
   "metadata": {},
   "outputs": [
    {
     "data": {
      "text/html": [
       "<div>\n",
       "<style scoped>\n",
       "    .dataframe tbody tr th:only-of-type {\n",
       "        vertical-align: middle;\n",
       "    }\n",
       "\n",
       "    .dataframe tbody tr th {\n",
       "        vertical-align: top;\n",
       "    }\n",
       "\n",
       "    .dataframe thead th {\n",
       "        text-align: right;\n",
       "    }\n",
       "</style>\n",
       "<table border=\"1\" class=\"dataframe\">\n",
       "  <thead>\n",
       "    <tr style=\"text-align: right;\">\n",
       "      <th></th>\n",
       "      <th>category</th>\n",
       "      <th>subscriber_sum</th>\n",
       "      <th>category_count</th>\n",
       "    </tr>\n",
       "  </thead>\n",
       "  <tbody>\n",
       "    <tr>\n",
       "      <th>0</th>\n",
       "      <td>[BJ/인물/연예인]</td>\n",
       "      <td>10640000</td>\n",
       "      <td>20</td>\n",
       "    </tr>\n",
       "    <tr>\n",
       "      <th>1</th>\n",
       "      <td>[TV/방송]</td>\n",
       "      <td>89920000</td>\n",
       "      <td>120</td>\n",
       "    </tr>\n",
       "    <tr>\n",
       "      <th>2</th>\n",
       "      <td>[뉴스/정치/사회]</td>\n",
       "      <td>21470000</td>\n",
       "      <td>30</td>\n",
       "    </tr>\n",
       "    <tr>\n",
       "      <th>3</th>\n",
       "      <td>[미분류]</td>\n",
       "      <td>36220000</td>\n",
       "      <td>50</td>\n",
       "    </tr>\n",
       "    <tr>\n",
       "      <th>4</th>\n",
       "      <td>[애완/반려동물]</td>\n",
       "      <td>4710000</td>\n",
       "      <td>10</td>\n",
       "    </tr>\n",
       "  </tbody>\n",
       "</table>\n",
       "</div>"
      ],
      "text/plain": [
       "      category  subscriber_sum  category_count\n",
       "0  [BJ/인물/연예인]        10640000              20\n",
       "1      [TV/방송]        89920000             120\n",
       "2   [뉴스/정치/사회]        21470000              30\n",
       "3        [미분류]        36220000              50\n",
       "4    [애완/반려동물]         4710000              10"
      ]
     },
     "execution_count": 92,
     "metadata": {},
     "output_type": "execute_result"
    }
   ],
   "source": [
    "#각 컬럼명이 subscriber_sum과 category_count로 변경되었다. 하지만 각 컬럼은 데이터프레임에서 인덱스로 \n",
    "#설정되어 있어서 reset_index()를 사용해서 인덱스를 초기화한다.\n",
    "pivot_df = pivot_df.reset_index()\n",
    "pivot_df.head()"
   ]
  },
  {
   "cell_type": "code",
   "execution_count": null,
   "metadata": {},
   "outputs": [
    {
     "data": {
      "text/html": [
       "<div>\n",
       "<style scoped>\n",
       "    .dataframe tbody tr th:only-of-type {\n",
       "        vertical-align: middle;\n",
       "    }\n",
       "\n",
       "    .dataframe tbody tr th {\n",
       "        vertical-align: top;\n",
       "    }\n",
       "\n",
       "    .dataframe thead th {\n",
       "        text-align: right;\n",
       "    }\n",
       "</style>\n",
       "<table border=\"1\" class=\"dataframe\">\n",
       "  <thead>\n",
       "    <tr style=\"text-align: right;\">\n",
       "      <th></th>\n",
       "      <th>category</th>\n",
       "      <th>subscriber_sum</th>\n",
       "      <th>category_count</th>\n",
       "    </tr>\n",
       "  </thead>\n",
       "  <tbody>\n",
       "    <tr>\n",
       "      <th>6</th>\n",
       "      <td>[음악/댄스/가수]</td>\n",
       "      <td>583540000</td>\n",
       "      <td>360</td>\n",
       "    </tr>\n",
       "    <tr>\n",
       "      <th>7</th>\n",
       "      <td>[키즈/어린이]</td>\n",
       "      <td>203710000</td>\n",
       "      <td>240</td>\n",
       "    </tr>\n",
       "    <tr>\n",
       "      <th>5</th>\n",
       "      <td>[음식/요리/레시피]</td>\n",
       "      <td>103000000</td>\n",
       "      <td>130</td>\n",
       "    </tr>\n",
       "    <tr>\n",
       "      <th>1</th>\n",
       "      <td>[TV/방송]</td>\n",
       "      <td>89920000</td>\n",
       "      <td>120</td>\n",
       "    </tr>\n",
       "    <tr>\n",
       "      <th>3</th>\n",
       "      <td>[미분류]</td>\n",
       "      <td>36220000</td>\n",
       "      <td>50</td>\n",
       "    </tr>\n",
       "  </tbody>\n",
       "</table>\n",
       "</div>"
      ],
      "text/plain": [
       "      category  subscriber_sum  category_count\n",
       "6   [음악/댄스/가수]       583540000             360\n",
       "7     [키즈/어린이]       203710000             240\n",
       "5  [음식/요리/레시피]       103000000             130\n",
       "1      [TV/방송]        89920000             120\n",
       "3        [미분류]        36220000              50"
      ]
     },
     "execution_count": 93,
     "metadata": {},
     "output_type": "execute_result"
    }
   ],
   "source": [
    "#데이터프레임을 내림차순 정렬하기\n",
    "pivot_df = pivot_df.sort_values(by='subscriber_sum', ascending=False)\n",
    "pivot_df.head()"
   ]
  },
  {
   "cell_type": "code",
   "execution_count": null,
   "metadata": {},
   "outputs": [
    {
     "data": {
      "image/png": "[encoded data removed]",
      "text/plain": [
       "<Figure size 3000x1000 with 1 Axes>"
      ]
     },
     "metadata": {},
     "output_type": "display_data"
    }
   ],
   "source": [
    "#파이차트 그리기\n",
    "#구독자수를 시각화하기 때문에 pivot_df['subscriber_sum]을 입력한다. \n",
    "#그리고 라벨을 출력하고 각 수치값을 퍼센트로 표기한다. \n",
    "plt.figure(figsize=(30,10))\n",
    "plt.pie(pivot_df['subscriber_sum'], \n",
    "    labels=pivot_df['category'], autopct='%1.1f%%')\n",
    "plt.show()"
   ]
  },
  {
   "cell_type": "code",
   "execution_count": null,
   "metadata": {},
   "outputs": [
    {
     "data": {
      "image/png": "[encoded data removed]",
      "text/plain": [
       "<Figure size 6000x2000 with 1 Axes>"
      ]
     },
     "metadata": {},
     "output_type": "display_data"
    }
   ],
   "source": [
    "#이번에는 카테고리 채널 수를 시각화한다. \n",
    "pivot_df = pivot_df.sort_values(by='category_count', ascending=False)\n",
    "pivot_df.head()\n",
    "plt.figure(figsize=(60,20))\n",
    "plt.pie(pivot_df['category_count'], labels=pivot_df['category'], \n",
    "autopct='%1.1f%%')\n",
    "plt.show()"
   ]
  },
  {
   "cell_type": "code",
   "execution_count": null,
   "metadata": {},
   "outputs": [],
   "source": []
  }
 ],
 "metadata": {
  "kernelspec": {
   "display_name": "Python 3.9.10 64-bit",
   "language": "python",
   "name": "python3"
  },
  "language_info": {
   "codemirror_mode": {
    "name": "ipython",
    "version": 3
   },
   "file_extension": ".py",
   "mimetype": "text/x-python",
   "name": "python",
   "nbconvert_exporter": "python",
   "pygments_lexer": "ipython3",
   "version": "3.9.10"
  },
  "metadata": {
   "interpreter": {
    "hash": "2db524e06e9f5f4ffedc911c917cb75e12dbc923643829bf417064a77eb14d37"
   }
  },
  "orig_nbformat": 2,
  "vscode": {
   "interpreter": {
    "hash": "81794d4967e6c3204c66dcd87b604927b115b27c00565d3d43f05ba2f3a2cb0d"
   }
  }
 },
 "nbformat": 4,
 "nbformat_minor": 2
}
